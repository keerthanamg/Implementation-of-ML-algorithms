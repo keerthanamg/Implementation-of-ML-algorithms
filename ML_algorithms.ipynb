{
  "nbformat": 4,
  "nbformat_minor": 0,
  "metadata": {
    "colab": {
      "provenance": [],
      "authorship_tag": "ABX9TyO5f7kctyXK2aJrNbZ2y7Dh",
      "include_colab_link": true
    },
    "kernelspec": {
      "name": "python3",
      "display_name": "Python 3"
    },
    "language_info": {
      "name": "python"
    }
  },
  "cells": [
    {
      "cell_type": "markdown",
      "metadata": {
        "id": "view-in-github",
        "colab_type": "text"
      },
      "source": [
        "<a href=\"https://colab.research.google.com/github/keerthanamg/Implementation-of-ML-algorithms/blob/main/ML_algorithms.ipynb\" target=\"_parent\"><img src=\"https://colab.research.google.com/assets/colab-badge.svg\" alt=\"Open In Colab\"/></a>"
      ]
    },
    {
      "cell_type": "markdown",
      "source": [
        "Implementation of Linear Regression:\n"
      ],
      "metadata": {
        "id": "bGnr_0NXh4CE"
      }
    },
    {
      "cell_type": "code",
      "source": [
        "from sklearn.linear_model import LinearRegression"
      ],
      "metadata": {
        "id": "bSmbEvVWiAKi"
      },
      "execution_count": 1,
      "outputs": []
    },
    {
      "cell_type": "code",
      "source": [
        "linearregression = LinearRegression()\n",
        "linearregression.fit(x_train, y_train)\n",
        "y_pred = linearregression.predict(x_val)\n",
        "from sklearn import metrics\n",
        "import sklearn.metrics as sm\n",
        "print(\"Mean absolute error =\", round(sm.mean_absolute_error(y_val, y_pred), 2))\n",
        "Mne = round(sm.mean_squared_error(y_val, y_pred), 2)\n",
        "print(\"Mean squared error =\",Mne)\n",
        "print(\"Median absolute error =\", round(sm.median_absolute_error(y_val, y_pred), 2))\n",
        "print(\"Explain variance score =\", round(sm.explained_variance_score(y_val, y_pred), 2))\n",
        "print(\"R2 score =\", round(sm.r2_score(y_val, y_pred), 2))"
      ],
      "metadata": {
        "id": "Zewi53XHiL35"
      },
      "execution_count": null,
      "outputs": []
    },
    {
      "cell_type": "markdown",
      "source": [
        "Implementation of Logistic Regression:"
      ],
      "metadata": {
        "id": "s_UBgAv7iVvh"
      }
    },
    {
      "cell_type": "code",
      "source": [
        "from sklearn.linear_model import LogisticRegression"
      ],
      "metadata": {
        "id": "Q3b-iI_JiY__"
      },
      "execution_count": 3,
      "outputs": []
    },
    {
      "cell_type": "code",
      "source": [
        "logreg = LogisticRegression()\n",
        "logreg.fit(x_train, y_train)\n",
        "y_pred = logreg.predict(x_val)\n",
        "acc_logreg = round(accuracy_score(y_pred, y_val) * 100, 2)\n",
        "print(acc_logreg)"
      ],
      "metadata": {
        "id": "ha2CC3nNi5tj"
      },
      "execution_count": null,
      "outputs": []
    },
    {
      "cell_type": "markdown",
      "source": [
        "Implementation of SVM, K-NN, Naïve\n",
        "Bayes Classifier:"
      ],
      "metadata": {
        "id": "c7B8vqyZi6s3"
      }
    },
    {
      "cell_type": "code",
      "source": [
        "from sklearn.svm import SVC\n",
        "svc = SVC()\n",
        "svc.fit(x_train, y_train)\n",
        "y_pred = svc.predict(x_val)\n",
        "acc_svc = round(accuracy_score(y_pred, y_val) * 100, 2)\n",
        "print(acc_svc)"
      ],
      "metadata": {
        "id": "PPFfhpu3jAB2"
      },
      "execution_count": null,
      "outputs": []
    },
    {
      "cell_type": "code",
      "source": [
        "from sklearn.neighbors import KNeighborsClassifier\n",
        "knn = KNeighborsClassifier()\n",
        "knn.fit(x_train, y_train)\n",
        "y_pred = knn.predict(x_val)\n",
        "acc_knn = round(accuracy_score(y_pred, y_val) * 100, 2)\n",
        "print(acc_knn)"
      ],
      "metadata": {
        "id": "UySKvzrUjIyI"
      },
      "execution_count": null,
      "outputs": []
    },
    {
      "cell_type": "code",
      "source": [
        "from sklearn.naive_bayes import GaussianNB\n",
        "from sklearn.metrics import accuracy_score\n",
        "gaussian = GaussianNB()\n",
        "gaussian.fit(x_train, y_train)\n",
        "y_pred = gaussian.predict(x_val)\n",
        "acc_gaussian = round(accuracy_score(y_pred, y_val) * 100, 2)\n",
        "print(acc_gaussian)"
      ],
      "metadata": {
        "id": "nqaNUEphjL0q"
      },
      "execution_count": null,
      "outputs": []
    },
    {
      "cell_type": "markdown",
      "source": [
        "Implementation of Decision Tree and\n",
        "Random Forest Classifier:"
      ],
      "metadata": {
        "id": "o9Xu9Mgxjd21"
      }
    },
    {
      "cell_type": "code",
      "source": [
        "from sklearn.tree import DecisionTreeClassifier\n",
        "decisiontree = DecisionTreeClassifier()\n",
        "decisiontree.fit(x_train, y_train)\n",
        "y_pred = decisiontree.predict(x_val)\n",
        "acc_decisiontree = round(accuracy_score(y_pred, y_val) * 100, 2)\n",
        "print(acc_decisiontree)"
      ],
      "metadata": {
        "id": "i6qVujywjfHA"
      },
      "execution_count": null,
      "outputs": []
    },
    {
      "cell_type": "code",
      "source": [
        "from sklearn.ensemble import RandomForestClassifier\n",
        "randomforest = RandomForestClassifier()\n",
        "randomforest.fit(x_train, y_train)\n",
        "y_pred = randomforest.predict(x_val)\n",
        "acc_randomforest = round(accuracy_score(y_pred, y_val) * 100, 2)\n",
        "print(acc_randomforest)"
      ],
      "metadata": {
        "id": "ay13Vby6ji_C"
      },
      "execution_count": null,
      "outputs": []
    },
    {
      "cell_type": "markdown",
      "source": [
        "Implementation of K-Means Clustering:"
      ],
      "metadata": {
        "id": "jFbVxGWVjmc9"
      }
    },
    {
      "cell_type": "code",
      "source": [
        "from sklearn.cluster import KMeans\n",
        "kmeans_model = KMeans(n_clusters=2)\n",
        "y_pred = kmeans_model.fit_predict(x_val)\n",
        "acc_kmeans= round(accuracy_score(y_pred, y_val) * 100, 2)\n",
        "print(acc_kmeans)"
      ],
      "metadata": {
        "id": "ZSmmC5AHjq68"
      },
      "execution_count": null,
      "outputs": []
    },
    {
      "cell_type": "markdown",
      "source": [
        "Implementation of PCA:"
      ],
      "metadata": {
        "id": "FQ1YdYQekGMZ"
      }
    },
    {
      "cell_type": "code",
      "source": [
        "from sklearn.decomposition import PCA\n",
        "from sklearn.preprocessing import StandardScaler\n",
        "sc = StandardScaler()\n",
        "x_train = sc.fit_transform(x_train)\n",
        "x_val = sc.transform(x_val)\n",
        "pca = PCA()\n",
        "x_train = pca.fit_transform(x_train)\n",
        "x_val = pca.transform(x_val)"
      ],
      "metadata": {
        "id": "ZGN50yNtkHON"
      },
      "execution_count": null,
      "outputs": []
    }
  ]
}